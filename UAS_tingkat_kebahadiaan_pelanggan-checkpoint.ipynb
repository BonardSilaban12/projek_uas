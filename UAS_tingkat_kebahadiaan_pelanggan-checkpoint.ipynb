import numpy as np
import skfuzzy as fuzz
from skfuzzy import control as ctrl

# Definisikan universe of discourse
kecepatan = np.arange(0, 11, 1)
kualitas = np.arange(0, 11, 1)
suasana = np.arange(0, 11, 1)
kebahagiaan = np.arange(0, 11, 1)

# Definisikan variabel fuzzy
kecepatan_pelayanan = ctrl.Antecedent(kecepatan, 'kecepatan_pelayanan')
kualitas_makanan = ctrl.Antecedent(kualitas, 'kualitas_makanan')
suasana_restoran = ctrl.Antecedent(suasana, 'suasana_restoran')
tingkat_kebahagiaan = ctrl.Consequent(kebahagiaan, 'tingkat_kebahagiaan')

# Definisikan fuzzy set untuk kecepatan pelayanan
kecepatan_pelayanan['lambat'] = fuzz.trimf(kecepatan, [0, 0, 5])
kecepatan_pelayanan['sedang'] = fuzz.trimf(kecepatan, [0, 5, 10])
kecepatan_pelayanan['cepat'] = fuzz.trimf(kecepatan, [5, 10, 10])

# Definisikan fuzzy set untuk kualitas makanan
kualitas_makanan['buruk'] = fuzz.trimf(kualitas, [0, 0, 5])
kualitas_makanan['cukup'] = fuzz.trimf(kualitas, [0, 5, 10])
kualitas_makanan['baik'] = fuzz.trimf(kualitas, [5, 10, 10])

# Definisikan fuzzy set untuk suasana restoran
suasana_restoran['jelek'] = fuzz.trimf(suasana, [0, 0, 5])
suasana_restoran['nyaman'] = fuzz.trimf(suasana, [0, 5, 10])
suasana_restoran['sangat_nyaman'] = fuzz.trimf(suasana, [5, 10, 10])

# Definisikan fuzzy set untuk tingkat kebahagiaan
tingkat_kebahagiaan['tidak_bahagia'] = fuzz.trimf(kebahagiaan, [0, 0, 5])
tingkat_kebahagiaan['normal'] = fuzz.trimf(kebahagiaan, [5, 8, 10])
tingkat_kebahagiaan['bahagia'] = fuzz.trimf(kebahagiaan, [8, 10, 10])

# Definisikan aturan
rule1 = ctrl.Rule(kecepatan_pelayanan['cepat'] & kualitas_makanan['baik'] & suasana_restoran['sangat_nyaman'], tingkat_kebahagiaan['bahagia'])
rule2 = ctrl.Rule(kecepatan_pelayanan['sedang'] & kualitas_makanan['cukup'] & suasana_restoran['nyaman'], tingkat_kebahagiaan['normal'])
rule3 = ctrl.Rule(kecepatan_pelayanan['lambat'] | kualitas_makanan['buruk'] | suasana_restoran['jelek'], tingkat_kebahagiaan['tidak_bahagia'])

# Mengendalikan sistem
kebahagiaan_ctrl = ctrl.ControlSystem([rule1, rule2, rule3])
kebahagiaan_simulator = ctrl.ControlSystemSimulation(kebahagiaan_ctrl)

def evaluate_happiness(inputs):
    """Fungsi untuk mengevaluasi kebahagiaan berdasarkan input kecepatan, kualitas, dan suasana."""
    kecepatan_input, kualitas_input, suasana_input = inputs

    # Masukkan input ke simulator
    kebahagiaan_simulator.input['kecepatan_pelayanan'] = kecepatan_input
    kebahagiaan_simulator.input['kualitas_makanan'] = kualitas_input
    kebahagiaan_simulator.input['suasana_restoran'] = suasana_input

    # Hitung output
    kebahagiaan_simulator.compute()

    # Ambil output tingkat kebahagiaan
    output_kebahagiaan = kebahagiaan_simulator.output['tingkat_kebahagiaan']
    return output_kebahagiaan

# Fungsi utama untuk mendapatkan input dan mengevaluasi
def main():
    try:
        # Ambil input dari pengguna
        kecepatan_input = float(input("Masukkan nilai kecepatan pelayanan (0-10): "))
        kualitas_input = float(input("Masukkan nilai kualitas makanan (0-10): "))
        suasana_input = float(input("Masukkan nilai suasana restoran (0-10): "))

        # Validasi input
        if not (0 <= kecepatan_input <= 10) or not (0 <= kualitas_input <= 10) or not (0 <= suasana_input <= 10):
            print("Nilai harus berada dalam rentang 0-10.")
            return

        # Evaluasi kebahagiaan dengan input
        tingkat_kebahagiaan = evaluate_happiness([kecepatan_input, kualitas_input, suasana_input])
        
        # Menentukan deskripsi output
        if tingkat_kebahagiaan < 5:
            deskripsi = "tidak bahagia"
        elif tingkat_kebahagiaan < 8:
            deskripsi = "normal"
        else:
            deskripsi = "bahagia"

        print(f'Tingkat Kebahagiaan Pelanggan: {tingkat_kebahagiaan:.2f} - {deskripsi}')

    except ValueError:
        print("Input tidak valid. Mohon masukkan angka.")

# Menjalankan fungsi utama
if __name__ == "__main__":
    main()
